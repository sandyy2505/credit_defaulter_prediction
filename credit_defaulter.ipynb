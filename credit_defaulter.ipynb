{
 "cells": [
  {
   "cell_type": "markdown",
   "metadata": {},
   "source": [
    "# Logistic regression"
   ]
  },
  {
   "cell_type": "markdown",
   "metadata": {},
   "source": [
    "### Context\n",
    "The original dataset contains 1000 entries with 20 categorical/symbolic attributes prepared by Prof. Hofmann. In this dataset, each entry represents a person who takes a credit by a bank. Each person is classified as good or bad credit risks according to the set of attributes. It is almost impossible to understand the original dataset due to its complicated system of categories and symbols. Thus, the attributes in this dataset is a subset of the original dataset. Several columns are simply ignored, and some of the important attributes like age, account balance etc. are retained.\n",
    "\n",
    "### Objective \n",
    "To identify if a person is at risk of making default or not.\n",
    "\n",
    "### Dataset:\n",
    "- Age (Numeric : Age in years)\n",
    "- Sex (Categories : male, female)\n",
    "- Job (Categories : 0 - unskilled and non-resident, 1 - unskilled and resident, 2 - skilled, 3 - highly skilled)\n",
    "- Housing (Categories : own, rent, or free)\n",
    "- Saving accounts (Categories : little, moderate, quite rich, rich)\n",
    "- Checking account (Categories : little, moderate, rich)\n",
    "- Credit amount (Numeric : Amount of credit in DM - Deutsche Mark)\n",
    "- Duration (Numeric : Duration for which the credit is given in months)\n",
    "- Purpose (Categories: car, furniture/equipment, radio/TV, domestic appliances, repairs, education, business, vacation/others)\n",
    "- Risk (0 - Person is not at risk, 1 - Pesron is at risk(defaulter))"
   ]
  },
  {
   "cell_type": "markdown",
   "metadata": {},
   "source": [
    "## Import necessary packages"
   ]
  },
  {
   "cell_type": "code",
   "execution_count": 1,
   "metadata": {},
   "outputs": [],
   "source": [
    "import numpy as np\n",
    "import pandas as pd\n",
    "import matplotlib.pyplot as plt\n",
    "import seaborn as sns\n",
    "from sklearn.model_selection import train_test_split\n",
    "from sklearn.metrics import confusion_matrix, classification_report\n",
    "from sklearn.metrics import accuracy_score,precision_score,recall_score,f1_score\n",
    "from sklearn import metrics"
   ]
  },
  {
   "cell_type": "markdown",
   "metadata": {},
   "source": [
    "### Read the Dataset"
   ]
  },
  {
   "cell_type": "code",
   "execution_count": 2,
   "metadata": {},
   "outputs": [],
   "source": [
    "df = pd.read_csv('German_Credit.csv')"
   ]
  },
  {
   "cell_type": "markdown",
   "metadata": {},
   "source": [
    "### View first and last 5 rows of dataset"
   ]
  },
  {
   "cell_type": "code",
   "execution_count": 3,
   "metadata": {},
   "outputs": [
    {
     "data": {
      "text/html": [
       "<div>\n",
       "<style scoped>\n",
       "    .dataframe tbody tr th:only-of-type {\n",
       "        vertical-align: middle;\n",
       "    }\n",
       "\n",
       "    .dataframe tbody tr th {\n",
       "        vertical-align: top;\n",
       "    }\n",
       "\n",
       "    .dataframe thead th {\n",
       "        text-align: right;\n",
       "    }\n",
       "</style>\n",
       "<table border=\"1\" class=\"dataframe\">\n",
       "  <thead>\n",
       "    <tr style=\"text-align: right;\">\n",
       "      <th></th>\n",
       "      <th>Age</th>\n",
       "      <th>Sex</th>\n",
       "      <th>Job</th>\n",
       "      <th>Housing</th>\n",
       "      <th>Saving accounts</th>\n",
       "      <th>Checking account</th>\n",
       "      <th>Credit amount</th>\n",
       "      <th>Duration</th>\n",
       "      <th>Purpose</th>\n",
       "      <th>Risk</th>\n",
       "    </tr>\n",
       "  </thead>\n",
       "  <tbody>\n",
       "    <tr>\n",
       "      <th>0</th>\n",
       "      <td>67</td>\n",
       "      <td>male</td>\n",
       "      <td>2</td>\n",
       "      <td>own</td>\n",
       "      <td>NaN</td>\n",
       "      <td>little</td>\n",
       "      <td>1169</td>\n",
       "      <td>6</td>\n",
       "      <td>radio/TV</td>\n",
       "      <td>0</td>\n",
       "    </tr>\n",
       "    <tr>\n",
       "      <th>1</th>\n",
       "      <td>22</td>\n",
       "      <td>female</td>\n",
       "      <td>2</td>\n",
       "      <td>own</td>\n",
       "      <td>little</td>\n",
       "      <td>moderate</td>\n",
       "      <td>5951</td>\n",
       "      <td>48</td>\n",
       "      <td>radio/TV</td>\n",
       "      <td>1</td>\n",
       "    </tr>\n",
       "    <tr>\n",
       "      <th>2</th>\n",
       "      <td>49</td>\n",
       "      <td>male</td>\n",
       "      <td>1</td>\n",
       "      <td>own</td>\n",
       "      <td>little</td>\n",
       "      <td>NaN</td>\n",
       "      <td>2096</td>\n",
       "      <td>12</td>\n",
       "      <td>education</td>\n",
       "      <td>0</td>\n",
       "    </tr>\n",
       "    <tr>\n",
       "      <th>3</th>\n",
       "      <td>45</td>\n",
       "      <td>male</td>\n",
       "      <td>2</td>\n",
       "      <td>free</td>\n",
       "      <td>little</td>\n",
       "      <td>little</td>\n",
       "      <td>7882</td>\n",
       "      <td>42</td>\n",
       "      <td>furniture/equipment</td>\n",
       "      <td>0</td>\n",
       "    </tr>\n",
       "    <tr>\n",
       "      <th>4</th>\n",
       "      <td>53</td>\n",
       "      <td>male</td>\n",
       "      <td>2</td>\n",
       "      <td>free</td>\n",
       "      <td>little</td>\n",
       "      <td>little</td>\n",
       "      <td>4870</td>\n",
       "      <td>24</td>\n",
       "      <td>car</td>\n",
       "      <td>1</td>\n",
       "    </tr>\n",
       "  </tbody>\n",
       "</table>\n",
       "</div>"
      ],
      "text/plain": [
       "   Age     Sex  Job Housing Saving accounts Checking account  Credit amount  \\\n",
       "0   67    male    2     own             NaN           little           1169   \n",
       "1   22  female    2     own          little         moderate           5951   \n",
       "2   49    male    1     own          little              NaN           2096   \n",
       "3   45    male    2    free          little           little           7882   \n",
       "4   53    male    2    free          little           little           4870   \n",
       "\n",
       "   Duration              Purpose  Risk  \n",
       "0         6             radio/TV     0  \n",
       "1        48             radio/TV     1  \n",
       "2        12            education     0  \n",
       "3        42  furniture/equipment     0  \n",
       "4        24                  car     1  "
      ]
     },
     "execution_count": 3,
     "metadata": {},
     "output_type": "execute_result"
    }
   ],
   "source": [
    "df.head()"
   ]
  },
  {
   "cell_type": "code",
   "execution_count": 4,
   "metadata": {},
   "outputs": [
    {
     "data": {
      "text/html": [
       "<div>\n",
       "<style scoped>\n",
       "    .dataframe tbody tr th:only-of-type {\n",
       "        vertical-align: middle;\n",
       "    }\n",
       "\n",
       "    .dataframe tbody tr th {\n",
       "        vertical-align: top;\n",
       "    }\n",
       "\n",
       "    .dataframe thead th {\n",
       "        text-align: right;\n",
       "    }\n",
       "</style>\n",
       "<table border=\"1\" class=\"dataframe\">\n",
       "  <thead>\n",
       "    <tr style=\"text-align: right;\">\n",
       "      <th></th>\n",
       "      <th>Age</th>\n",
       "      <th>Sex</th>\n",
       "      <th>Job</th>\n",
       "      <th>Housing</th>\n",
       "      <th>Saving accounts</th>\n",
       "      <th>Checking account</th>\n",
       "      <th>Credit amount</th>\n",
       "      <th>Duration</th>\n",
       "      <th>Purpose</th>\n",
       "      <th>Risk</th>\n",
       "    </tr>\n",
       "  </thead>\n",
       "  <tbody>\n",
       "    <tr>\n",
       "      <th>995</th>\n",
       "      <td>31</td>\n",
       "      <td>female</td>\n",
       "      <td>1</td>\n",
       "      <td>own</td>\n",
       "      <td>little</td>\n",
       "      <td>NaN</td>\n",
       "      <td>1736</td>\n",
       "      <td>12</td>\n",
       "      <td>furniture/equipment</td>\n",
       "      <td>0</td>\n",
       "    </tr>\n",
       "    <tr>\n",
       "      <th>996</th>\n",
       "      <td>40</td>\n",
       "      <td>male</td>\n",
       "      <td>3</td>\n",
       "      <td>own</td>\n",
       "      <td>little</td>\n",
       "      <td>little</td>\n",
       "      <td>3857</td>\n",
       "      <td>30</td>\n",
       "      <td>car</td>\n",
       "      <td>0</td>\n",
       "    </tr>\n",
       "    <tr>\n",
       "      <th>997</th>\n",
       "      <td>38</td>\n",
       "      <td>male</td>\n",
       "      <td>2</td>\n",
       "      <td>own</td>\n",
       "      <td>little</td>\n",
       "      <td>NaN</td>\n",
       "      <td>804</td>\n",
       "      <td>12</td>\n",
       "      <td>radio/TV</td>\n",
       "      <td>0</td>\n",
       "    </tr>\n",
       "    <tr>\n",
       "      <th>998</th>\n",
       "      <td>23</td>\n",
       "      <td>male</td>\n",
       "      <td>2</td>\n",
       "      <td>free</td>\n",
       "      <td>little</td>\n",
       "      <td>little</td>\n",
       "      <td>1845</td>\n",
       "      <td>45</td>\n",
       "      <td>radio/TV</td>\n",
       "      <td>1</td>\n",
       "    </tr>\n",
       "    <tr>\n",
       "      <th>999</th>\n",
       "      <td>27</td>\n",
       "      <td>male</td>\n",
       "      <td>2</td>\n",
       "      <td>own</td>\n",
       "      <td>moderate</td>\n",
       "      <td>moderate</td>\n",
       "      <td>4576</td>\n",
       "      <td>45</td>\n",
       "      <td>car</td>\n",
       "      <td>0</td>\n",
       "    </tr>\n",
       "  </tbody>\n",
       "</table>\n",
       "</div>"
      ],
      "text/plain": [
       "     Age     Sex  Job Housing Saving accounts Checking account  Credit amount  \\\n",
       "995   31  female    1     own          little              NaN           1736   \n",
       "996   40    male    3     own          little           little           3857   \n",
       "997   38    male    2     own          little              NaN            804   \n",
       "998   23    male    2    free          little           little           1845   \n",
       "999   27    male    2     own        moderate         moderate           4576   \n",
       "\n",
       "     Duration              Purpose  Risk  \n",
       "995        12  furniture/equipment     0  \n",
       "996        30                  car     0  \n",
       "997        12             radio/TV     0  \n",
       "998        45             radio/TV     1  \n",
       "999        45                  car     0  "
      ]
     },
     "execution_count": 4,
     "metadata": {},
     "output_type": "execute_result"
    }
   ],
   "source": [
    "df.tail()"
   ]
  },
  {
   "cell_type": "markdown",
   "metadata": {},
   "source": [
    "### Understand the shape of the dataset."
   ]
  },
  {
   "cell_type": "code",
   "execution_count": 5,
   "metadata": {},
   "outputs": [
    {
     "data": {
      "text/plain": [
       "(1000, 10)"
      ]
     },
     "execution_count": 5,
     "metadata": {},
     "output_type": "execute_result"
    }
   ],
   "source": [
    "df.shape"
   ]
  },
  {
   "cell_type": "markdown",
   "metadata": {},
   "source": [
    "### Check the data types of the columns for the dataset."
   ]
  },
  {
   "cell_type": "code",
   "execution_count": 6,
   "metadata": {},
   "outputs": [
    {
     "name": "stdout",
     "output_type": "stream",
     "text": [
      "<class 'pandas.core.frame.DataFrame'>\n",
      "RangeIndex: 1000 entries, 0 to 999\n",
      "Data columns (total 10 columns):\n",
      " #   Column            Non-Null Count  Dtype \n",
      "---  ------            --------------  ----- \n",
      " 0   Age               1000 non-null   int64 \n",
      " 1   Sex               1000 non-null   object\n",
      " 2   Job               1000 non-null   int64 \n",
      " 3   Housing           1000 non-null   object\n",
      " 4   Saving accounts   817 non-null    object\n",
      " 5   Checking account  606 non-null    object\n",
      " 6   Credit amount     1000 non-null   int64 \n",
      " 7   Duration          1000 non-null   int64 \n",
      " 8   Purpose           1000 non-null   object\n",
      " 9   Risk              1000 non-null   int64 \n",
      "dtypes: int64(5), object(5)\n",
      "memory usage: 78.2+ KB\n"
     ]
    }
   ],
   "source": [
    "df.info()"
   ]
  },
  {
   "cell_type": "markdown",
   "metadata": {},
   "source": [
    "* Age, job, Credit Amount, Duration, Risk are integers\n",
    "* Sex, Housing, Saving accounts, Checking account, Purpose are objects\n",
    "* Risk is dependent variable, we need to convert that to categorical"
   ]
  },
  {
   "cell_type": "code",
   "execution_count": 7,
   "metadata": {},
   "outputs": [],
   "source": [
    "df[\"Risk\"] = df[\"Risk\"].astype(\"category\")"
   ]
  },
  {
   "cell_type": "markdown",
   "metadata": {},
   "source": [
    "### Summary of the dataset."
   ]
  },
  {
   "cell_type": "code",
   "execution_count": 8,
   "metadata": {},
   "outputs": [
    {
     "data": {
      "text/html": [
       "<div>\n",
       "<style scoped>\n",
       "    .dataframe tbody tr th:only-of-type {\n",
       "        vertical-align: middle;\n",
       "    }\n",
       "\n",
       "    .dataframe tbody tr th {\n",
       "        vertical-align: top;\n",
       "    }\n",
       "\n",
       "    .dataframe thead th {\n",
       "        text-align: right;\n",
       "    }\n",
       "</style>\n",
       "<table border=\"1\" class=\"dataframe\">\n",
       "  <thead>\n",
       "    <tr style=\"text-align: right;\">\n",
       "      <th></th>\n",
       "      <th>Age</th>\n",
       "      <th>Sex</th>\n",
       "      <th>Job</th>\n",
       "      <th>Housing</th>\n",
       "      <th>Saving accounts</th>\n",
       "      <th>Checking account</th>\n",
       "      <th>Credit amount</th>\n",
       "      <th>Duration</th>\n",
       "      <th>Purpose</th>\n",
       "      <th>Risk</th>\n",
       "    </tr>\n",
       "  </thead>\n",
       "  <tbody>\n",
       "    <tr>\n",
       "      <th>count</th>\n",
       "      <td>1000.000000</td>\n",
       "      <td>1000</td>\n",
       "      <td>1000.000000</td>\n",
       "      <td>1000</td>\n",
       "      <td>817</td>\n",
       "      <td>606</td>\n",
       "      <td>1000.000000</td>\n",
       "      <td>1000.000000</td>\n",
       "      <td>1000</td>\n",
       "      <td>1000.0</td>\n",
       "    </tr>\n",
       "    <tr>\n",
       "      <th>unique</th>\n",
       "      <td>NaN</td>\n",
       "      <td>2</td>\n",
       "      <td>NaN</td>\n",
       "      <td>3</td>\n",
       "      <td>4</td>\n",
       "      <td>3</td>\n",
       "      <td>NaN</td>\n",
       "      <td>NaN</td>\n",
       "      <td>8</td>\n",
       "      <td>2.0</td>\n",
       "    </tr>\n",
       "    <tr>\n",
       "      <th>top</th>\n",
       "      <td>NaN</td>\n",
       "      <td>male</td>\n",
       "      <td>NaN</td>\n",
       "      <td>own</td>\n",
       "      <td>little</td>\n",
       "      <td>little</td>\n",
       "      <td>NaN</td>\n",
       "      <td>NaN</td>\n",
       "      <td>car</td>\n",
       "      <td>0.0</td>\n",
       "    </tr>\n",
       "    <tr>\n",
       "      <th>freq</th>\n",
       "      <td>NaN</td>\n",
       "      <td>690</td>\n",
       "      <td>NaN</td>\n",
       "      <td>713</td>\n",
       "      <td>603</td>\n",
       "      <td>274</td>\n",
       "      <td>NaN</td>\n",
       "      <td>NaN</td>\n",
       "      <td>337</td>\n",
       "      <td>700.0</td>\n",
       "    </tr>\n",
       "    <tr>\n",
       "      <th>mean</th>\n",
       "      <td>35.546000</td>\n",
       "      <td>NaN</td>\n",
       "      <td>1.904000</td>\n",
       "      <td>NaN</td>\n",
       "      <td>NaN</td>\n",
       "      <td>NaN</td>\n",
       "      <td>3271.258000</td>\n",
       "      <td>20.903000</td>\n",
       "      <td>NaN</td>\n",
       "      <td>NaN</td>\n",
       "    </tr>\n",
       "    <tr>\n",
       "      <th>std</th>\n",
       "      <td>11.375469</td>\n",
       "      <td>NaN</td>\n",
       "      <td>0.653614</td>\n",
       "      <td>NaN</td>\n",
       "      <td>NaN</td>\n",
       "      <td>NaN</td>\n",
       "      <td>2822.736876</td>\n",
       "      <td>12.058814</td>\n",
       "      <td>NaN</td>\n",
       "      <td>NaN</td>\n",
       "    </tr>\n",
       "    <tr>\n",
       "      <th>min</th>\n",
       "      <td>19.000000</td>\n",
       "      <td>NaN</td>\n",
       "      <td>0.000000</td>\n",
       "      <td>NaN</td>\n",
       "      <td>NaN</td>\n",
       "      <td>NaN</td>\n",
       "      <td>250.000000</td>\n",
       "      <td>4.000000</td>\n",
       "      <td>NaN</td>\n",
       "      <td>NaN</td>\n",
       "    </tr>\n",
       "    <tr>\n",
       "      <th>25%</th>\n",
       "      <td>27.000000</td>\n",
       "      <td>NaN</td>\n",
       "      <td>2.000000</td>\n",
       "      <td>NaN</td>\n",
       "      <td>NaN</td>\n",
       "      <td>NaN</td>\n",
       "      <td>1365.500000</td>\n",
       "      <td>12.000000</td>\n",
       "      <td>NaN</td>\n",
       "      <td>NaN</td>\n",
       "    </tr>\n",
       "    <tr>\n",
       "      <th>50%</th>\n",
       "      <td>33.000000</td>\n",
       "      <td>NaN</td>\n",
       "      <td>2.000000</td>\n",
       "      <td>NaN</td>\n",
       "      <td>NaN</td>\n",
       "      <td>NaN</td>\n",
       "      <td>2319.500000</td>\n",
       "      <td>18.000000</td>\n",
       "      <td>NaN</td>\n",
       "      <td>NaN</td>\n",
       "    </tr>\n",
       "    <tr>\n",
       "      <th>75%</th>\n",
       "      <td>42.000000</td>\n",
       "      <td>NaN</td>\n",
       "      <td>2.000000</td>\n",
       "      <td>NaN</td>\n",
       "      <td>NaN</td>\n",
       "      <td>NaN</td>\n",
       "      <td>3972.250000</td>\n",
       "      <td>24.000000</td>\n",
       "      <td>NaN</td>\n",
       "      <td>NaN</td>\n",
       "    </tr>\n",
       "    <tr>\n",
       "      <th>max</th>\n",
       "      <td>75.000000</td>\n",
       "      <td>NaN</td>\n",
       "      <td>3.000000</td>\n",
       "      <td>NaN</td>\n",
       "      <td>NaN</td>\n",
       "      <td>NaN</td>\n",
       "      <td>18424.000000</td>\n",
       "      <td>72.000000</td>\n",
       "      <td>NaN</td>\n",
       "      <td>NaN</td>\n",
       "    </tr>\n",
       "  </tbody>\n",
       "</table>\n",
       "</div>"
      ],
      "text/plain": [
       "                Age   Sex          Job Housing Saving accounts  \\\n",
       "count   1000.000000  1000  1000.000000    1000             817   \n",
       "unique          NaN     2          NaN       3               4   \n",
       "top             NaN  male          NaN     own          little   \n",
       "freq            NaN   690          NaN     713             603   \n",
       "mean      35.546000   NaN     1.904000     NaN             NaN   \n",
       "std       11.375469   NaN     0.653614     NaN             NaN   \n",
       "min       19.000000   NaN     0.000000     NaN             NaN   \n",
       "25%       27.000000   NaN     2.000000     NaN             NaN   \n",
       "50%       33.000000   NaN     2.000000     NaN             NaN   \n",
       "75%       42.000000   NaN     2.000000     NaN             NaN   \n",
       "max       75.000000   NaN     3.000000     NaN             NaN   \n",
       "\n",
       "       Checking account  Credit amount     Duration Purpose    Risk  \n",
       "count               606    1000.000000  1000.000000    1000  1000.0  \n",
       "unique                3            NaN          NaN       8     2.0  \n",
       "top              little            NaN          NaN     car     0.0  \n",
       "freq                274            NaN          NaN     337   700.0  \n",
       "mean                NaN    3271.258000    20.903000     NaN     NaN  \n",
       "std                 NaN    2822.736876    12.058814     NaN     NaN  \n",
       "min                 NaN     250.000000     4.000000     NaN     NaN  \n",
       "25%                 NaN    1365.500000    12.000000     NaN     NaN  \n",
       "50%                 NaN    2319.500000    18.000000     NaN     NaN  \n",
       "75%                 NaN    3972.250000    24.000000     NaN     NaN  \n",
       "max                 NaN   18424.000000    72.000000     NaN     NaN  "
      ]
     },
     "execution_count": 8,
     "metadata": {},
     "output_type": "execute_result"
    }
   ],
   "source": [
    "df.describe(include=\"all\")"
   ]
  },
  {
   "cell_type": "markdown",
   "metadata": {},
   "source": [
    "**Observation** \n",
    "* Most of the customers are not at risk\n",
    "* Mean amount of credit people have is 3271.24800\n",
    "* Mean amount of months people take credit for is 20.903000"
   ]
  },
  {
   "cell_type": "markdown",
   "metadata": {},
   "source": [
    "### Check and treat for missing values"
   ]
  },
  {
   "cell_type": "code",
   "execution_count": 9,
   "metadata": {},
   "outputs": [
    {
     "data": {
      "text/plain": [
       "Age                 0.000\n",
       "Sex                 0.000\n",
       "Job                 0.000\n",
       "Housing             0.000\n",
       "Saving accounts     0.183\n",
       "Checking account    0.394\n",
       "Credit amount       0.000\n",
       "Duration            0.000\n",
       "Purpose             0.000\n",
       "Risk                0.000\n",
       "dtype: float64"
      ]
     },
     "execution_count": 9,
     "metadata": {},
     "output_type": "execute_result"
    }
   ],
   "source": [
    "df.isna().sum()/len(df.isna())"
   ]
  },
  {
   "cell_type": "markdown",
   "metadata": {},
   "source": [
    "* We can see that two columns - 'Saving accounts' and 'Checking account' have 18% and 39% missing values respectively.\n",
    "* We can either drop these columns or drop rows with missing values but then we would lose data for such a small dataset.\n",
    "* As both of these columns are categorical, we can treat those missng values as a new category."
   ]
  },
  {
   "cell_type": "code",
   "execution_count": 10,
   "metadata": {},
   "outputs": [
    {
     "data": {
      "text/plain": [
       "Age                 0.0\n",
       "Sex                 0.0\n",
       "Job                 0.0\n",
       "Housing             0.0\n",
       "Saving accounts     0.0\n",
       "Checking account    0.0\n",
       "Credit amount       0.0\n",
       "Duration            0.0\n",
       "Purpose             0.0\n",
       "Risk                0.0\n",
       "dtype: float64"
      ]
     },
     "execution_count": 10,
     "metadata": {},
     "output_type": "execute_result"
    }
   ],
   "source": [
    "df['Saving accounts'].fillna(value='unknown',inplace=True)\n",
    "df['Checking account'].fillna(value='unknown',inplace=True)\n",
    "df.isna().sum()/len(df.isna())"
   ]
  },
  {
   "cell_type": "markdown",
   "metadata": {},
   "source": [
    "### Univariate analysis"
   ]
  },
  {
   "cell_type": "code",
   "execution_count": 11,
   "metadata": {},
   "outputs": [],
   "source": [
    "# Function to create barplots that indicate percentage for each category.\n",
    "\n",
    "def perc_on_bar(plot, feature):\n",
    "    '''\n",
    "    plot\n",
    "    feature: categorical feature\n",
    "    the function won't work if a column is passed in hue parameter\n",
    "    '''\n",
    "    total = len(feature) # length of the column\n",
    "    for p in ax.patches:\n",
    "        percentage = '{:.1f}%'.format(100 * p.get_height()/total) # percentage of each class of the category\n",
    "        x = p.get_x() + p.get_width() / 2 - 0.05 # width of the plot\n",
    "        y = p.get_y() + p.get_height()           # hieght of the plot\n",
    "        ax.annotate(percentage, (x, y), size = 12) # annotate the percantage \n",
    "    plt.show() # show the plot"
   ]
  },
  {
   "cell_type": "markdown",
   "metadata": {},
   "source": [
    "## Observations on Risk"
   ]
  },
  {
   "cell_type": "code",
   "execution_count": 12,
   "metadata": {},
   "outputs": [
    {
     "name": "stderr",
     "output_type": "stream",
     "text": [
      "C:\\Users\\Laveena Garg\\anaconda3\\lib\\site-packages\\seaborn\\_decorators.py:36: FutureWarning: Pass the following variable as a keyword arg: x. From version 0.12, the only valid positional argument will be `data`, and passing other arguments without an explicit keyword will result in an error or misinterpretation.\n",
      "  warnings.warn(\n"
     ]
    },
    {
     "data": {
      "image/png": "[encoded data removed]",
      "text/plain": [
       "<Figure size 720x360 with 1 Axes>"
      ]
     },
     "metadata": {
      "needs_background": "light"
     },
     "output_type": "display_data"
    }
   ],
   "source": [
    "plt.figure(figsize=(10,5))\n",
    "ax = sns.countplot(df[\"Risk\"],palette='winter')\n",
    "perc_on_bar(ax,df[\"Risk\"])"
   ]
  },
  {
   "cell_type": "markdown",
   "metadata": {},
   "source": [
    "* 70% of the customers are not at risk of default"
   ]
  },
  {
   "cell_type": "markdown",
   "metadata": {},
   "source": [
    "## Observations on Sex of Customers"
   ]
  },
  {
   "cell_type": "code",
   "execution_count": 13,
   "metadata": {},
   "outputs": [
    {
     "data": {
      "image/png": "[encoded data removed]",
      "text/plain": [
       "<Figure size 720x360 with 1 Axes>"
      ]
     },
     "metadata": {
      "needs_background": "light"
     },
     "output_type": "display_data"
    }
   ],
   "source": [
    "plt.figure(figsize=(10,5))\n",
    "ax = sns.countplot(df[\"Sex\"],palette='winter')\n",
    "perc_on_bar(ax,df[\"Sex\"])"
   ]
  },
  {
   "cell_type": "markdown",
   "metadata": {},
   "source": [
    "* Most of the customers who take credit are males"
   ]
  },
  {
   "cell_type": "markdown",
   "metadata": {},
   "source": [
    "### Observations on Housing"
   ]
  },
  {
   "cell_type": "code",
   "execution_count": 14,
   "metadata": {},
   "outputs": [
    {
     "name": "stderr",
     "output_type": "stream",
     "text": [
      "C:\\Users\\Laveena Garg\\anaconda3\\lib\\site-packages\\seaborn\\_decorators.py:36: FutureWarning: Pass the following variable as a keyword arg: x. From version 0.12, the only valid positional argument will be `data`, and passing other arguments without an explicit keyword will result in an error or misinterpretation.\n",
      "  warnings.warn(\n"
     ]
    },
    {
     "data": {
      "image/png": "[encoded data removed]",
      "text/plain": [
       "<Figure size 720x360 with 1 Axes>"
      ]
     },
     "metadata": {
      "needs_background": "light"
     },
     "output_type": "display_data"
    }
   ],
   "source": [
    "plt.figure(figsize=(10,5))\n",
    "ax = sns.countplot(df[\"Housing\"],palette='winter')\n",
    "perc_on_bar(ax,df[\"Housing\"])"
   ]
  },
  {
   "cell_type": "markdown",
   "metadata": {},
   "source": [
    "* Most people who take credit have there own house"
   ]
  },
  {
   "cell_type": "markdown",
   "metadata": {},
   "source": [
    "### Observations on Job"
   ]
  },
  {
   "cell_type": "code",
   "execution_count": 15,
   "metadata": {},
   "outputs": [
    {
     "name": "stderr",
     "output_type": "stream",
     "text": [
      "C:\\Users\\Laveena Garg\\anaconda3\\lib\\site-packages\\seaborn\\_decorators.py:36: FutureWarning: Pass the following variable as a keyword arg: x. From version 0.12, the only valid positional argument will be `data`, and passing other arguments without an explicit keyword will result in an error or misinterpretation.\n",
      "  warnings.warn(\n"
     ]
    },
    {
     "data": {
      "image/png": "[encoded data removed]",
      "text/plain": [
       "<Figure size 720x360 with 1 Axes>"
      ]
     },
     "metadata": {
      "needs_background": "light"
     },
     "output_type": "display_data"
    }
   ],
   "source": [
    "plt.figure(figsize=(10,5))\n",
    "ax = sns.countplot(df[\"Job\"],palette='winter')\n",
    "perc_on_bar(ax,df[\"Job\"])"
   ]
  },
  {
   "cell_type": "markdown",
   "metadata": {},
   "source": [
    "* Most of the credit takers are under skilled job category"
   ]
  },
  {
   "cell_type": "markdown",
   "metadata": {},
   "source": [
    "### Observations on Saving accounts"
   ]
  },
  {
   "cell_type": "code",
   "execution_count": 16,
   "metadata": {},
   "outputs": [
    {
     "name": "stderr",
     "output_type": "stream",
     "text": [
      "C:\\Users\\Laveena Garg\\anaconda3\\lib\\site-packages\\seaborn\\_decorators.py:36: FutureWarning: Pass the following variable as a keyword arg: x. From version 0.12, the only valid positional argument will be `data`, and passing other arguments without an explicit keyword will result in an error or misinterpretation.\n",
      "  warnings.warn(\n"
     ]
    },
    {
     "data": {
      "image/png": "[encoded data removed]",
      "text/plain": [
       "<Figure size 720x360 with 1 Axes>"
      ]
     },
     "metadata": {
      "needs_background": "light"
     },
     "output_type": "display_data"
    }
   ],
   "source": [
    "plt.figure(figsize=(10,5))\n",
    "ax = sns.countplot(df[\"Saving accounts\"],palette='winter')\n",
    "perc_on_bar(ax,df[\"Saving accounts\"])"
   ]
  },
  {
   "cell_type": "markdown",
   "metadata": {},
   "source": [
    "* Most people with little amount in savings account takes credit"
   ]
  },
  {
   "cell_type": "markdown",
   "metadata": {},
   "source": [
    "### Observations on Checking account"
   ]
  },
  {
   "cell_type": "code",
   "execution_count": 17,
   "metadata": {},
   "outputs": [
    {
     "name": "stderr",
     "output_type": "stream",
     "text": [
      "C:\\Users\\Laveena Garg\\anaconda3\\lib\\site-packages\\seaborn\\_decorators.py:36: FutureWarning: Pass the following variable as a keyword arg: x. From version 0.12, the only valid positional argument will be `data`, and passing other arguments without an explicit keyword will result in an error or misinterpretation.\n",
      "  warnings.warn(\n"
     ]
    },
    {
     "data": {
      "image/png": "[encoded data removed]",
      "text/plain": [
       "<Figure size 720x360 with 1 Axes>"
      ]
     },
     "metadata": {
      "needs_background": "light"
     },
     "output_type": "display_data"
    }
   ],
   "source": [
    "plt.figure(figsize=(10,5))\n",
    "ax = sns.countplot(df[\"Checking account\"],palette='winter')\n",
    "perc_on_bar(ax,df[\"Checking account\"])"
   ]
  },
  {
   "cell_type": "markdown",
   "metadata": {},
   "source": [
    "* Here customers with unknown information on checking account seems to take more credits"
   ]
  },
  {
   "cell_type": "markdown",
   "metadata": {},
   "source": [
    "### Observations on Purpose"
   ]
  },
  {
   "cell_type": "code",
   "execution_count": 18,
   "metadata": {},
   "outputs": [
    {
     "name": "stderr",
     "output_type": "stream",
     "text": [
      "C:\\Users\\Laveena Garg\\anaconda3\\lib\\site-packages\\seaborn\\_decorators.py:36: FutureWarning: Pass the following variable as a keyword arg: x. From version 0.12, the only valid positional argument will be `data`, and passing other arguments without an explicit keyword will result in an error or misinterpretation.\n",
      "  warnings.warn(\n"
     ]
    },
    {
     "data": {
      "image/png": "[encoded data removed]",
      "text/plain": [
       "<Figure size 720x360 with 1 Axes>"
      ]
     },
     "metadata": {
      "needs_background": "light"
     },
     "output_type": "display_data"
    }
   ],
   "source": [
    "plt.figure(figsize=(10,5))\n",
    "ax = sns.countplot(df[\"Purpose\"],palette='winter')\n",
    "perc_on_bar(ax,df[\"Purpose\"])"
   ]
  },
  {
   "cell_type": "markdown",
   "metadata": {},
   "source": [
    "* Most of the people take credits for buying car followed by radio/TV"
   ]
  },
  {
   "cell_type": "markdown",
   "metadata": {},
   "source": [
    "### Bivariate Analysis"
   ]
  },
  {
   "cell_type": "code",
   "execution_count": 19,
   "metadata": {},
   "outputs": [],
   "source": [
    "## Function to plot stacked bar chart\n",
    "def stacked_plot(x):\n",
    "    sns.set(palette='nipy_spectral')\n",
    "    tab1 = pd.crosstab(x,df['Risk'],margins=True)\n",
    "    print(tab1)\n",
    "    print('-'*120)\n",
    "    tab = pd.crosstab(x,df['Risk'],normalize='index')\n",
    "    tab.plot(kind='bar',stacked=True,figsize=(10,5))\n",
    "    #plt.legend(loc='lower left', frameon=False)\n",
    "    #plt.legend(loc=\"upper left\", bbox_to_anchor=(0,1))\n",
    "    plt.show()"
   ]
  },
  {
   "cell_type": "code",
   "execution_count": 20,
   "metadata": {},
   "outputs": [
    {
     "name": "stdout",
     "output_type": "stream",
     "text": [
      "Risk      0    1   All\n",
      "Sex                   \n",
      "female  201  109   310\n",
      "male    499  191   690\n",
      "All     700  300  1000\n",
      "------------------------------------------------------------------------------------------------------------------------\n"
     ]
    },
    {
     "data": {
      "image/png": "[encoded data removed]",
      "text/plain": [
       "<Figure size 720x360 with 1 Axes>"
      ]
     },
     "metadata": {},
     "output_type": "display_data"
    }
   ],
   "source": [
    "stacked_plot(df['Sex'])"
   ]
  },
  {
   "cell_type": "markdown",
   "metadata": {},
   "source": [
    "* Males are at less risk of default as comapred to females"
   ]
  },
  {
   "cell_type": "code",
   "execution_count": 21,
   "metadata": {},
   "outputs": [
    {
     "name": "stdout",
     "output_type": "stream",
     "text": [
      "Risk    0    1   All\n",
      "Job                 \n",
      "0      15    7    22\n",
      "1     144   56   200\n",
      "2     444  186   630\n",
      "3      97   51   148\n",
      "All   700  300  1000\n",
      "------------------------------------------------------------------------------------------------------------------------\n"
     ]
    },
    {
     "data": {
      "image/png": "[encoded data removed]",
      "text/plain": [
       "<Figure size 720x360 with 1 Axes>"
      ]
     },
     "metadata": {},
     "output_type": "display_data"
    }
   ],
   "source": [
    "stacked_plot(df['Job'])"
   ]
  },
  {
   "cell_type": "markdown",
   "metadata": {},
   "source": [
    "* People doing any job seems to be at same level of risk for default"
   ]
  },
  {
   "cell_type": "code",
   "execution_count": 22,
   "metadata": {},
   "outputs": [
    {
     "name": "stdout",
     "output_type": "stream",
     "text": [
      "Risk       0    1   All\n",
      "Housing                \n",
      "free      64   44   108\n",
      "own      527  186   713\n",
      "rent     109   70   179\n",
      "All      700  300  1000\n",
      "------------------------------------------------------------------------------------------------------------------------\n"
     ]
    },
    {
     "data": {
      "image/png": "[encoded data removed]",
      "text/plain": [
       "<Figure size 720x360 with 1 Axes>"
      ]
     },
     "metadata": {},
     "output_type": "display_data"
    }
   ],
   "source": [
    "stacked_plot(df['Housing'])"
   ]
  },
  {
   "cell_type": "markdown",
   "metadata": {},
   "source": [
    "* Customers owning a house are at less risk of defaulting"
   ]
  },
  {
   "cell_type": "code",
   "execution_count": 23,
   "metadata": {},
   "outputs": [
    {
     "name": "stdout",
     "output_type": "stream",
     "text": [
      "Risk               0    1   All\n",
      "Saving accounts                \n",
      "little           386  217   603\n",
      "moderate          69   34   103\n",
      "quite rich        52   11    63\n",
      "rich              42    6    48\n",
      "unknown          151   32   183\n",
      "All              700  300  1000\n",
      "------------------------------------------------------------------------------------------------------------------------\n"
     ]
    },
    {
     "data": {
      "image/png": "[encoded data removed]",
      "text/plain": [
       "<Figure size 720x360 with 1 Axes>"
      ]
     },
     "metadata": {},
     "output_type": "display_data"
    }
   ],
   "source": [
    "stacked_plot(df['Saving accounts'])"
   ]
  },
  {
   "cell_type": "markdown",
   "metadata": {},
   "source": [
    "* Customers with rich savings account are at less risk of default"
   ]
  },
  {
   "cell_type": "code",
   "execution_count": 24,
   "metadata": {},
   "outputs": [
    {
     "name": "stdout",
     "output_type": "stream",
     "text": [
      "Risk                0    1   All\n",
      "Checking account                \n",
      "little            139  135   274\n",
      "moderate          164  105   269\n",
      "rich               49   14    63\n",
      "unknown           348   46   394\n",
      "All               700  300  1000\n",
      "------------------------------------------------------------------------------------------------------------------------\n"
     ]
    },
    {
     "data": {
      "image/png": "[encoded data removed]",
      "text/plain": [
       "<Figure size 720x360 with 1 Axes>"
      ]
     },
     "metadata": {},
     "output_type": "display_data"
    }
   ],
   "source": [
    "stacked_plot(df['Checking account'])"
   ]
  },
  {
   "cell_type": "markdown",
   "metadata": {},
   "source": [
    "* People with unknown checking accounts are at less risk of default, while with little amount in checking accounts are at higher risk of default"
   ]
  },
  {
   "cell_type": "code",
   "execution_count": 25,
   "metadata": {},
   "outputs": [
    {
     "name": "stdout",
     "output_type": "stream",
     "text": [
      "Risk                   0    1   All\n",
      "Purpose                            \n",
      "business              63   34    97\n",
      "car                  231  106   337\n",
      "domestic appliances    8    4    12\n",
      "education             36   23    59\n",
      "furniture/equipment  123   58   181\n",
      "radio/TV             218   62   280\n",
      "repairs               14    8    22\n",
      "vacation/others        7    5    12\n",
      "All                  700  300  1000\n",
      "------------------------------------------------------------------------------------------------------------------------\n"
     ]
    },
    {
     "data": {
      "image/png": "[encoded data removed]",
      "text/plain": [
       "<Figure size 720x360 with 1 Axes>"
      ]
     },
     "metadata": {},
     "output_type": "display_data"
    }
   ],
   "source": [
    "stacked_plot(df['Purpose'])"
   ]
  },
  {
   "cell_type": "markdown",
   "metadata": {},
   "source": [
    "* different purposes doesn't seem to have any specific effect on amount of risk"
   ]
  },
  {
   "cell_type": "code",
   "execution_count": 26,
   "metadata": {},
   "outputs": [
    {
     "name": "stdout",
     "output_type": "stream",
     "text": [
      "Risk    0    1   All\n",
      "Age                 \n",
      "19      1    1     2\n",
      "20      9    5    14\n",
      "21      9    5    14\n",
      "22     16   11    27\n",
      "23     28   20    48\n",
      "24     25   19    44\n",
      "25     22   19    41\n",
      "26     36   14    50\n",
      "27     38   13    51\n",
      "28     28   15    43\n",
      "29     22   15    37\n",
      "30     29   11    40\n",
      "31     27   11    38\n",
      "32     25    9    34\n",
      "33     20   13    33\n",
      "34     21   11    32\n",
      "35     34    6    40\n",
      "36     33    6    39\n",
      "37     21    8    29\n",
      "38     20    4    24\n",
      "39     15    6    21\n",
      "40     19    6    25\n",
      "41     13    4    17\n",
      "42     14    8    22\n",
      "43     12    5    17\n",
      "44     12    5    17\n",
      "45     12    3    15\n",
      "46     14    4    18\n",
      "47     12    5    17\n",
      "48      9    3    12\n",
      "49     13    1    14\n",
      "50      9    3    12\n",
      "51      7    1     8\n",
      "52      8    1     9\n",
      "53      2    5     7\n",
      "54      8    2    10\n",
      "55      5    3     8\n",
      "56      3    0     3\n",
      "57      6    3     9\n",
      "58      3    2     5\n",
      "59      2    1     3\n",
      "60      3    3     6\n",
      "61      4    3     7\n",
      "62      2    0     2\n",
      "63      7    1     8\n",
      "64      5    0     5\n",
      "65      4    1     5\n",
      "66      3    2     5\n",
      "67      3    0     3\n",
      "68      1    2     3\n",
      "70      1    0     1\n",
      "74      3    1     4\n",
      "75      2    0     2\n",
      "All   700  300  1000\n",
      "------------------------------------------------------------------------------------------------------------------------\n"
     ]
    },
    {
     "data": {
      "image/png": "[encoded data removed]",
      "text/plain": [
       "<Figure size 720x360 with 1 Axes>"
      ]
     },
     "metadata": {},
     "output_type": "display_data"
    }
   ],
   "source": [
    "stacked_plot(df['Age'])"
   ]
  },
  {
   "cell_type": "markdown",
   "metadata": {},
   "source": [
    "* People with age inbetween 34 and 57 are less probable to default"
   ]
  },
  {
   "cell_type": "code",
   "execution_count": 27,
   "metadata": {},
   "outputs": [
    {
     "name": "stdout",
     "output_type": "stream",
     "text": [
      "Risk        0    1   All\n",
      "Duration                \n",
      "4           6    0     6\n",
      "5           1    0     1\n",
      "6          66    9    75\n",
      "7           5    0     5\n",
      "8           6    1     7\n",
      "9          35   14    49\n",
      "10         25    3    28\n",
      "11          9    0     9\n",
      "12        130   49   179\n",
      "13          4    0     4\n",
      "14          3    1     4\n",
      "15         52   12    64\n",
      "16          1    1     2\n",
      "18         71   42   113\n",
      "20          7    1     8\n",
      "21         21    9    30\n",
      "22          2    0     2\n",
      "24        128   56   184\n",
      "26          1    0     1\n",
      "27          8    5    13\n",
      "28          2    1     3\n",
      "30         27   13    40\n",
      "33          2    1     3\n",
      "36         46   37    83\n",
      "39          4    1     5\n",
      "40          0    1     1\n",
      "42          8    3    11\n",
      "45          1    4     5\n",
      "47          1    0     1\n",
      "48         20   28    48\n",
      "54          1    1     2\n",
      "60          7    6    13\n",
      "72          0    1     1\n",
      "All       700  300  1000\n",
      "------------------------------------------------------------------------------------------------------------------------\n"
     ]
    },
    {
     "data": {
      "image/png": "[encoded data removed]",
      "text/plain": [
       "<Figure size 720x360 with 1 Axes>"
      ]
     },
     "metadata": {},
     "output_type": "display_data"
    }
   ],
   "source": [
    "stacked_plot(df['Duration'])"
   ]
  },
  {
   "cell_type": "markdown",
   "metadata": {},
   "source": [
    "* credit given for durations less than 12 months are at very low risk, while if given for more than 12 months then there are more chances of default"
   ]
  },
  {
   "cell_type": "markdown",
   "metadata": {},
   "source": [
    "## Model Building - Approach\n",
    "1. Data preparation\n",
    "2. Partition the data into train and test set.\n",
    "3. Built a Logistic regression on the train data.\n",
    "4. Remove multicollinearity and insignificant variables, if any\n",
    "5. Choose optimal threshold, if required.\n",
    "6. Test the data on test set."
   ]
  },
  {
   "cell_type": "markdown",
   "metadata": {},
   "source": [
    "### Model evaluation criterion\n",
    "\n",
    "### We will be using Precision as a metric for our model performance, because here company could face 2 types of losses\n",
    "1. Could Give loan to defaulters - Loss of money\n",
    "2. Not give Loan to non-defaulters - Loss of opportunity\n",
    "\n",
    "### Which Loss is greater ? \n",
    "* Giving loan to defaulters i.e. False negative i.e Predicting a person not at risk, while in actual person is at risk of making a default \n",
    "\n",
    "### How to reduce this loss i.e need to reduce False Negatives ?\n",
    "* Company wants Recall to be maximized, greater the recall lesser the chances of false negatives"
   ]
  },
  {
   "cell_type": "markdown",
   "metadata": {},
   "source": [
    "### Split data"
   ]
  },
  {
   "cell_type": "code",
   "execution_count": 46,
   "metadata": {},
   "outputs": [],
   "source": [
    "X=df.drop(columns=['Risk']) #Dropping continuous 'Age' and 'Credit amount' and keeping the categorical ones we created above\n",
    "Y=df['Risk']\n",
    "X.Duration=X.Duration/12 #Converting monthly values to yearly, Logistic Regression depends on the scale of the variables so it helps to have variables with similar scale or small scale.\n",
    "X =pd.get_dummies(data=X,drop_first=True)"
   ]
  },
  {
   "cell_type": "markdown",
   "metadata": {},
   "source": [
    "### Fit logistic regression model  (Statsmodel) "
   ]
  },
  {
   "cell_type": "code",
   "execution_count": 47,
   "metadata": {},
   "outputs": [
    {
     "name": "stdout",
     "output_type": "stream",
     "text": [
      "Optimization terminated successfully.\n",
      "         Current function value: 0.503938\n",
      "         Iterations 6\n",
      "                              Results: Logit\n",
      "===========================================================================\n",
      "Model:                  Logit               Pseudo R-squared:    0.173     \n",
      "Dependent Variable:     Risk                AIC:                 749.5138  \n",
      "Date:                   2021-02-09 15:55    BIC:                 849.6375  \n",
      "No. Observations:       700                 Log-Likelihood:      -352.76   \n",
      "Df Model:               21                  LL-Null:             -426.75   \n",
      "Df Residuals:           678                 LLR p-value:         4.2196e-21\n",
      "Converged:              1.0000              Scale:               1.0000    \n",
      "No. Iterations:         6.0000                                             \n",
      "---------------------------------------------------------------------------\n",
      "                             Coef.  Std.Err.    z    P>|z|   [0.025  0.975]\n",
      "---------------------------------------------------------------------------\n",
      "const                        1.4378   0.7333  1.9607 0.0499  0.0005  2.8751\n",
      "Age                         -0.0321   0.0097 -3.3188 0.0009 -0.0511 -0.0132\n",
      "Job                          0.0396   0.1488  0.2662 0.7901 -0.2521  0.3313\n",
      "Credit amount                0.0000   0.0000  0.8162 0.4144 -0.0000  0.0001\n",
      "Duration                     0.3407   0.1192  2.8578 0.0043  0.1070  0.5743\n",
      "Sex_male                    -0.3922   0.2044 -1.9189 0.0550 -0.7929  0.0084\n",
      "Housing_own                 -0.7304   0.3210 -2.2752 0.0229 -1.3596 -0.1012\n",
      "Housing_rent                -0.4061   0.3828 -1.0607 0.2888 -1.1564  0.3442\n",
      "Saving accounts_moderate    -0.1484   0.3149 -0.4712 0.6375 -0.7656  0.4688\n",
      "Saving accounts_quite rich  -0.6321   0.4580 -1.3801 0.1675 -1.5298  0.2656\n",
      "Saving accounts_rich        -1.0395   0.5737 -1.8120 0.0700 -2.1639  0.0849\n",
      "Saving accounts_unknown     -0.5722   0.2689 -2.1275 0.0334 -1.0993 -0.0451\n",
      "Checking account_moderate   -0.4046   0.2365 -1.7110 0.0871 -0.8680  0.0589\n",
      "Checking account_rich       -0.9474   0.4261 -2.2233 0.0262 -1.7827 -0.1122\n",
      "Checking account_unknown    -1.6507   0.2543 -6.4900 0.0000 -2.1492 -1.1522\n",
      "Purpose_car                 -0.0927   0.3382 -0.2740 0.7841 -0.7554  0.5701\n",
      "Purpose_domestic appliances  0.0818   0.7651  0.1069 0.9149 -1.4178  1.5814\n",
      "Purpose_education            0.3486   0.4962  0.7025 0.4824 -0.6239  1.3211\n",
      "Purpose_furniture/equipment -0.5643   0.3769 -1.4970 0.1344 -1.3031  0.1745\n",
      "Purpose_radio/TV            -0.6320   0.3508 -1.8014 0.0716 -1.3195  0.0556\n",
      "Purpose_repairs             -0.1100   0.6338 -0.1735 0.8622 -1.3521  1.1322\n",
      "Purpose_vacation/others     -0.1890   0.7683 -0.2461 0.8056 -1.6949  1.3168\n",
      "===========================================================================\n",
      "\n",
      "recall on train data: 0.4019138755980861\n",
      "recall on test data: 0.3626373626373626\n"
     ]
    }
   ],
   "source": [
    "import statsmodels.api as sm\n",
    "\n",
    "X_train, X_test, y_train, y_test = train_test_split( X, Y, test_size = 0.3, random_state = 42 )\n",
    "X_train = sm.add_constant(X_train)\n",
    "X_test = sm.add_constant(X_test)\n",
    "\n",
    "logit = sm.Logit( y_train, X_train )\n",
    "\n",
    "lg = logit.fit()\n",
    "\n",
    "print(lg.summary2())\n",
    "\n",
    "# Let's Look at Model Performance\n",
    "y_pred = lg.predict(X_train) \n",
    "pred_train = list(map(round, y_pred))\n",
    "\n",
    "y_pred1 = lg.predict(X_test) \n",
    "pred_test = list(map(round, y_pred1))\n",
    "\n",
    "print('recall on train data:',recall_score(y_train, pred_train) )\n",
    "print('recall on test data:',recall_score(y_test, pred_test))"
   ]
  },
  {
   "cell_type": "markdown",
   "metadata": {},
   "source": [
    "* The outputs are not reliable, because data might contain multicollinearity - so let's deal with that first"
   ]
  },
  {
   "cell_type": "markdown",
   "metadata": {},
   "source": [
    "### Check and treat multicollinearity"
   ]
  },
  {
   "cell_type": "code",
   "execution_count": 30,
   "metadata": {},
   "outputs": [
    {
     "name": "stdout",
     "output_type": "stream",
     "text": [
      "Series before feature selection: \n",
      "\n",
      "const                          64.399440\n",
      "Age                             1.187299\n",
      "Job                             1.140032\n",
      "Credit amount                   1.973930\n",
      "Duration                        1.790918\n",
      "Sex_male                        1.106095\n",
      "Housing_own                     2.605568\n",
      "Housing_rent                    2.699594\n",
      "Saving accounts_moderate        1.114480\n",
      "Saving accounts_quite rich      1.081380\n",
      "Saving accounts_rich            1.071061\n",
      "Saving accounts_unknown         1.141349\n",
      "Checking account_moderate       1.651880\n",
      "Checking account_rich           1.209496\n",
      "Checking account_unknown        1.719470\n",
      "Purpose_car                     3.340613\n",
      "Purpose_domestic appliances     1.175755\n",
      "Purpose_education               1.585808\n",
      "Purpose_furniture/equipment     2.495637\n",
      "Purpose_radio/TV                3.084745\n",
      "Purpose_repairs                 1.263508\n",
      "Purpose_vacation/others         1.211431\n",
      "dtype: float64\n",
      "\n"
     ]
    }
   ],
   "source": [
    "from statsmodels.stats.outliers_influence import variance_inflation_factor\n",
    "vif_series1 = pd.Series([variance_inflation_factor(X_train.values,i) for i in range(X_train.shape[1])],index=X_train.columns)\n",
    "print('Series before feature selection: \\n\\n{}\\n'.format(vif_series1))"
   ]
  },
  {
   "cell_type": "markdown",
   "metadata": {},
   "source": [
    "* None of the variables seems to be correlated, so the values in summary are reliable"
   ]
  },
  {
   "cell_type": "markdown",
   "metadata": {},
   "source": [
    "* Job has p value = 0.7901, which shows job to be insignificant - this was visible through EDA also\n",
    "* Credit amount has coefficient = 0.0000  and p value = 0.4144 - again insignificant\n",
    "* Sex also have p value more than 0.05\n",
    "* some variables of housing and savings account and checking account are significant, so we won't drop any of these\n",
    "* Purpose has p value greater than 0.05\n",
    "* **Let's drop them one by one**"
   ]
  },
  {
   "cell_type": "markdown",
   "metadata": {},
   "source": [
    "### Drop insignificant variables"
   ]
  },
  {
   "cell_type": "code",
   "execution_count": 31,
   "metadata": {},
   "outputs": [
    {
     "name": "stdout",
     "output_type": "stream",
     "text": [
      "Optimization terminated successfully.\n",
      "         Current function value: 0.503989\n",
      "         Iterations 6\n",
      "                              Results: Logit\n",
      "===========================================================================\n",
      "Model:                  Logit               Pseudo R-squared:    0.173     \n",
      "Dependent Variable:     Risk                AIC:                 747.5847  \n",
      "Date:                   2021-02-09 15:54    BIC:                 843.1574  \n",
      "No. Observations:       700                 Log-Likelihood:      -352.79   \n",
      "Df Model:               20                  LL-Null:             -426.75   \n",
      "Df Residuals:           679                 LLR p-value:         1.5686e-21\n",
      "Converged:              1.0000              Scale:               1.0000    \n",
      "No. Iterations:         6.0000                                             \n",
      "---------------------------------------------------------------------------\n",
      "                             Coef.  Std.Err.    z    P>|z|   [0.025  0.975]\n",
      "---------------------------------------------------------------------------\n",
      "const                        1.5085   0.6839  2.2057 0.0274  0.1680  2.8489\n",
      "Age                         -0.0320   0.0097 -3.3128 0.0009 -0.0510 -0.0131\n",
      "Credit amount                0.0000   0.0000  0.8715 0.3835 -0.0000  0.0001\n",
      "Duration                     0.3417   0.1191  2.8695 0.0041  0.1083  0.5751\n",
      "Sex_male                    -0.3897   0.2042 -1.9084 0.0563 -0.7899  0.0105\n",
      "Housing_own                 -0.7399   0.3189 -2.3201 0.0203 -1.3649 -0.1148\n",
      "Housing_rent                -0.4140   0.3816 -1.0851 0.2779 -1.1619  0.3338\n",
      "Saving accounts_moderate    -0.1475   0.3150 -0.4684 0.6395 -0.7649  0.4699\n",
      "Saving accounts_quite rich  -0.6395   0.4576 -1.3973 0.1623 -1.5364  0.2575\n",
      "Saving accounts_rich        -1.0420   0.5736 -1.8168 0.0693 -2.1662  0.0821\n",
      "Saving accounts_unknown     -0.5729   0.2689 -2.1302 0.0332 -1.0999 -0.0458\n",
      "Checking account_moderate   -0.4052   0.2365 -1.7134 0.0866 -0.8686  0.0583\n",
      "Checking account_rich       -0.9437   0.4256 -2.2174 0.0266 -1.7779 -0.1096\n",
      "Checking account_unknown    -1.6440   0.2530 -6.4975 0.0000 -2.1400 -1.1481\n",
      "Purpose_car                 -0.0926   0.3383 -0.2738 0.7842 -0.7558  0.5705\n",
      "Purpose_domestic appliances  0.0764   0.7651  0.0999 0.9204 -1.4231  1.5759\n",
      "Purpose_education            0.3460   0.4963  0.6972 0.4857 -0.6267  1.3186\n",
      "Purpose_furniture/equipment -0.5615   0.3768 -1.4900 0.1362 -1.3001  0.1771\n",
      "Purpose_radio/TV            -0.6326   0.3509 -1.8026 0.0715 -1.3205  0.0552\n",
      "Purpose_repairs             -0.1259   0.6316 -0.1994 0.8420 -1.3639  1.1121\n",
      "Purpose_vacation/others     -0.1707   0.7653 -0.2230 0.8235 -1.6707  1.3293\n",
      "===========================================================================\n",
      "\n",
      "Recall on train data: 0.3923444976076555\n",
      "Recall on test data: 0.34065934065934067\n"
     ]
    }
   ],
   "source": [
    "#job has highest p values among those with p-value greater than 0.05\n",
    "X_train1 = X_train.drop('Job', axis =1)\n",
    "X_test1 = X_test.drop('Job',axis =1)\n",
    "\n",
    "logit1 = sm.Logit(y_train, X_train1 )\n",
    "lg1 = logit1.fit()\n",
    "print(lg1.summary2())\n",
    "\n",
    "# Let's Look at Model Performance\n",
    "y_pred = lg1.predict(X_train1) \n",
    "pred_train = list(map(round, y_pred))\n",
    "\n",
    "y_pred1 = lg1.predict(X_test1) \n",
    "pred_test = list(map(round, y_pred1))\n",
    "\n",
    "print('Recall on train data:',recall_score(y_train, pred_train) )\n",
    "print('Recall on test data:',recall_score(y_test, pred_test))"
   ]
  },
  {
   "cell_type": "markdown",
   "metadata": {},
   "source": [
    "* Not much change in recall, let's drop Purpose now"
   ]
  },
  {
   "cell_type": "code",
   "execution_count": 32,
   "metadata": {},
   "outputs": [
    {
     "name": "stdout",
     "output_type": "stream",
     "text": [
      "Optimization terminated successfully.\n",
      "         Current function value: 0.511058\n",
      "         Iterations 6\n",
      "                              Results: Logit\n",
      "==========================================================================\n",
      "Model:                 Logit               Pseudo R-squared:    0.162     \n",
      "Dependent Variable:    Risk                AIC:                 743.4807  \n",
      "Date:                  2021-02-09 15:54    BIC:                 807.1959  \n",
      "No. Observations:      700                 Log-Likelihood:      -357.74   \n",
      "Df Model:              13                  LL-Null:             -426.75   \n",
      "Df Residuals:          686                 LLR p-value:         5.2246e-23\n",
      "Converged:             1.0000              Scale:               1.0000    \n",
      "No. Iterations:        6.0000                                             \n",
      "--------------------------------------------------------------------------\n",
      "                            Coef.  Std.Err.    z    P>|z|   [0.025  0.975]\n",
      "--------------------------------------------------------------------------\n",
      "const                       1.2157   0.5607  2.1683 0.0301  0.1168  2.3147\n",
      "Age                        -0.0286   0.0094 -3.0442 0.0023 -0.0471 -0.0102\n",
      "Credit amount               0.0000   0.0000  1.1505 0.2499 -0.0000  0.0001\n",
      "Duration                    0.3293   0.1156  2.8481 0.0044  0.1027  0.5560\n",
      "Sex_male                   -0.3796   0.2008 -1.8907 0.0587 -0.7731  0.0139\n",
      "Housing_own                -0.8557   0.3074 -2.7834 0.0054 -1.4582 -0.2531\n",
      "Housing_rent               -0.5370   0.3701 -1.4507 0.1469 -1.2624  0.1885\n",
      "Saving accounts_moderate   -0.0705   0.3092 -0.2280 0.8196 -0.6764  0.5354\n",
      "Saving accounts_quite rich -0.6750   0.4539 -1.4871 0.1370 -1.5647  0.2147\n",
      "Saving accounts_rich       -1.0499   0.5754 -1.8246 0.0681 -2.1777  0.0779\n",
      "Saving accounts_unknown    -0.5317   0.2642 -2.0126 0.0442 -1.0495 -0.0139\n",
      "Checking account_moderate  -0.4372   0.2284 -1.9140 0.0556 -0.8848  0.0105\n",
      "Checking account_rich      -1.0457   0.4190 -2.4957 0.0126 -1.8669 -0.2245\n",
      "Checking account_unknown   -1.6776   0.2480 -6.7648 0.0000 -2.1636 -1.1915\n",
      "==========================================================================\n",
      "\n",
      "recall on train data: 0.4019138755980861\n",
      "recall on test data: 0.3516483516483517\n"
     ]
    }
   ],
   "source": [
    "#purpose has highest p values among those with p-value greater than 0.05\n",
    "X_train2 = X_train1.drop(['Purpose_car','Purpose_domestic appliances','Purpose_education','Purpose_furniture/equipment','Purpose_radio/TV','Purpose_repairs','Purpose_vacation/others'], axis =1)\n",
    "X_test2 = X_test1.drop(['Purpose_car','Purpose_domestic appliances','Purpose_education','Purpose_furniture/equipment','Purpose_radio/TV','Purpose_repairs','Purpose_vacation/others'],axis =1)\n",
    "\n",
    "logit2 = sm.Logit(y_train, X_train2 )\n",
    "lg2 = logit2.fit()\n",
    "print(lg2.summary2())\n",
    "\n",
    "# Let's Look at Model Performance\n",
    "y_pred = lg2.predict(X_train2) \n",
    "pred_train = list(map(round, y_pred))\n",
    "\n",
    "y_pred1 = lg2.predict(X_test2) \n",
    "pred_test = list(map(round, y_pred1))\n",
    "\n",
    "print('recall on train data:',recall_score(y_train, pred_train) )\n",
    "print('recall on test data:',recall_score(y_test, pred_test))"
   ]
  },
  {
   "cell_type": "markdown",
   "metadata": {},
   "source": [
    "* no much change in recall"
   ]
  },
  {
   "cell_type": "code",
   "execution_count": 33,
   "metadata": {},
   "outputs": [
    {
     "name": "stdout",
     "output_type": "stream",
     "text": [
      "Optimization terminated successfully.\n",
      "         Current function value: 0.512003\n",
      "         Iterations 6\n",
      "                              Results: Logit\n",
      "==========================================================================\n",
      "Model:                 Logit               Pseudo R-squared:    0.160     \n",
      "Dependent Variable:    Risk                AIC:                 742.8047  \n",
      "Date:                  2021-02-09 15:54    BIC:                 801.9688  \n",
      "No. Observations:      700                 Log-Likelihood:      -358.40   \n",
      "Df Model:              12                  LL-Null:             -426.75   \n",
      "Df Residuals:          687                 LLR p-value:         2.7680e-23\n",
      "Converged:             1.0000              Scale:               1.0000    \n",
      "No. Iterations:        6.0000                                             \n",
      "--------------------------------------------------------------------------\n",
      "                            Coef.  Std.Err.    z    P>|z|   [0.025  0.975]\n",
      "--------------------------------------------------------------------------\n",
      "const                       1.2038   0.5601  2.1493 0.0316  0.1061  2.3015\n",
      "Age                        -0.0281   0.0094 -2.9977 0.0027 -0.0465 -0.0097\n",
      "Duration                    0.4104   0.0923  4.4481 0.0000  0.2296  0.5912\n",
      "Sex_male                   -0.3610   0.1998 -1.8067 0.0708 -0.7526  0.0306\n",
      "Housing_own                -0.8874   0.3059 -2.9009 0.0037 -1.4869 -0.2878\n",
      "Housing_rent               -0.5460   0.3697 -1.4769 0.1397 -1.2705  0.1786\n",
      "Saving accounts_moderate   -0.0851   0.3091 -0.2755 0.7830 -0.6910  0.5207\n",
      "Saving accounts_quite rich -0.6901   0.4530 -1.5236 0.1276 -1.5780  0.1977\n",
      "Saving accounts_rich       -1.0625   0.5732 -1.8536 0.0638 -2.1860  0.0610\n",
      "Saving accounts_unknown    -0.5162   0.2633 -1.9608 0.0499 -1.0322 -0.0002\n",
      "Checking account_moderate  -0.4018   0.2258 -1.7795 0.0752 -0.8444  0.0408\n",
      "Checking account_rich      -1.0731   0.4188 -2.5620 0.0104 -1.8940 -0.2522\n",
      "Checking account_unknown   -1.6633   0.2473 -6.7269 0.0000 -2.1480 -1.1787\n",
      "==========================================================================\n",
      "\n",
      "recall on train data: 0.430622009569378\n",
      "recall on test data: 0.37362637362637363\n"
     ]
    }
   ],
   "source": [
    "#Credit amount has highest p values among those with p-value greater than 0.05\n",
    "X_train3 = X_train2.drop('Credit amount', axis =1)\n",
    "X_test3 = X_test2.drop('Credit amount',axis =1)\n",
    "\n",
    "logit3 = sm.Logit(y_train, X_train3 )\n",
    "lg3 = logit3.fit()\n",
    "print(lg3.summary2())\n",
    "\n",
    "# Let's Look at Model Performance\n",
    "y_pred = lg3.predict(X_train3) \n",
    "pred_train = list(map(round, y_pred))\n",
    "\n",
    "y_pred1 = lg3.predict(X_test3) \n",
    "pred_test = list(map(round, y_pred1))\n",
    "\n",
    "print('recall on train data:',recall_score(y_train, pred_train) )\n",
    "print('recall on test data:',recall_score(y_test, pred_test))"
   ]
  },
  {
   "cell_type": "markdown",
   "metadata": {},
   "source": [
    "* recall on train increased from .40 to .43 and on test fom .36 to .37 - Now let's drop Sex_male"
   ]
  },
  {
   "cell_type": "code",
   "execution_count": 34,
   "metadata": {},
   "outputs": [
    {
     "name": "stdout",
     "output_type": "stream",
     "text": [
      "Optimization terminated successfully.\n",
      "         Current function value: 0.514322\n",
      "         Iterations 6\n",
      "                              Results: Logit\n",
      "==========================================================================\n",
      "Model:                 Logit               Pseudo R-squared:    0.156     \n",
      "Dependent Variable:    Risk                AIC:                 744.0502  \n",
      "Date:                  2021-02-09 15:54    BIC:                 798.6632  \n",
      "No. Observations:      700                 Log-Likelihood:      -360.03   \n",
      "Df Model:              11                  LL-Null:             -426.75   \n",
      "Df Residuals:          688                 LLR p-value:         3.4696e-23\n",
      "Converged:             1.0000              Scale:               1.0000    \n",
      "No. Iterations:        6.0000                                             \n",
      "--------------------------------------------------------------------------\n",
      "                            Coef.  Std.Err.    z    P>|z|   [0.025  0.975]\n",
      "--------------------------------------------------------------------------\n",
      "const                       1.0107   0.5502  1.8370 0.0662 -0.0677  2.0892\n",
      "Age                        -0.0299   0.0094 -3.1817 0.0015 -0.0483 -0.0115\n",
      "Duration                    0.4005   0.0917  4.3694 0.0000  0.2209  0.5802\n",
      "Housing_own                -0.8717   0.3058 -2.8505 0.0044 -1.4711 -0.2723\n",
      "Housing_rent               -0.4446   0.3648 -1.2190 0.2229 -1.1595  0.2703\n",
      "Saving accounts_moderate   -0.1049   0.3083 -0.3403 0.7337 -0.7091  0.4993\n",
      "Saving accounts_quite rich -0.7161   0.4507 -1.5888 0.1121 -1.5995  0.1673\n",
      "Saving accounts_rich       -0.9983   0.5712 -1.7477 0.0805 -2.1178  0.1212\n",
      "Saving accounts_unknown    -0.5161   0.2619 -1.9705 0.0488 -1.0295 -0.0028\n",
      "Checking account_moderate  -0.3850   0.2248 -1.7125 0.0868 -0.8256  0.0556\n",
      "Checking account_rich      -1.0804   0.4184 -2.5823 0.0098 -1.9004 -0.2604\n",
      "Checking account_unknown   -1.6687   0.2469 -6.7584 0.0000 -2.1526 -1.1848\n",
      "==========================================================================\n",
      "\n",
      "recall on train data: 0.40669856459330145\n",
      "recall on test data: 0.3626373626373626\n"
     ]
    }
   ],
   "source": [
    "#Sex_male has highest p values among those with p-value greater than 0.05\n",
    "X_train4 = X_train3.drop('Sex_male', axis =1)\n",
    "X_test4 = X_test3.drop('Sex_male',axis =1)\n",
    "\n",
    "logit4 = sm.Logit(y_train, X_train4 )\n",
    "lg4 = logit4.fit()\n",
    "print(lg4.summary2())\n",
    "\n",
    "# Let's Look at Model Performance\n",
    "y_pred = lg4.predict(X_train4) \n",
    "pred_train = list(map(round, y_pred))\n",
    "\n",
    "y_pred1 = lg4.predict(X_test4) \n",
    "pred_test = list(map(round, y_pred1))\n",
    "\n",
    "print('recall on train data:',recall_score(y_train, pred_train) )\n",
    "print('recall on test data:',recall_score(y_test, pred_test))"
   ]
  },
  {
   "cell_type": "markdown",
   "metadata": {},
   "source": [
    "* recall on train is same \n",
    "* So lg4 is the final model that we will use for predictions and inferences"
   ]
  },
  {
   "cell_type": "markdown",
   "metadata": {},
   "source": [
    "### Let's use model 'lg4' for making interpretations\n",
    "* As per lg4, Age, Duration, Housing, Savings accounts, checking accounts are important variables here\n",
    "* All variables except Duration have negative signs, i.e increase in these will lead to decrease in chances of default\n",
    "* 1 unit increase in Age decreases the odds of being defaulter by 3.03%\n",
    "* This relates to changes in probability by .75\n",
    "* Similarly for all the other variables\n",
    "\n",
    "* Please note that when coefficient is b , than change in odds is (exp(b)-1)*100 %\n",
    "* Probability = odd/(1+odd)\n"
   ]
  },
  {
   "cell_type": "markdown",
   "metadata": {},
   "source": [
    "### Check Model Performance"
   ]
  },
  {
   "cell_type": "code",
   "execution_count": 35,
   "metadata": {},
   "outputs": [],
   "source": [
    "# Let's Look at Model Performance\n",
    "y_pred = lg4.predict(X_train4) \n",
    "pred_train = list(map(round, y_pred))\n",
    "\n",
    "y_pred1 = lg4.predict(X_test4) \n",
    "pred_test = list(map(round, y_pred1))"
   ]
  },
  {
   "cell_type": "code",
   "execution_count": 36,
   "metadata": {},
   "outputs": [
    {
     "name": "stdout",
     "output_type": "stream",
     "text": [
      "Accuracy on train data: 0.7614285714285715\n",
      "Accuracy on test data: 0.7333333333333333\n",
      "Recall on train data: 0.40669856459330145\n",
      "Recall on test data: 0.3626373626373626\n",
      "Precision on train data: 0.6640625\n",
      "Precision on test data: 0.6\n",
      "f1 score on train data: 0.5044510385756676\n",
      "f1 score on test data: 0.4520547945205479\n"
     ]
    }
   ],
   "source": [
    "#Model performance with 0.5 threshold\n",
    "\n",
    "print('Accuracy on train data:',accuracy_score(y_train, pred_train) )\n",
    "print('Accuracy on test data:',accuracy_score(y_test, pred_test))\n",
    "\n",
    "print('Recall on train data:',recall_score(y_train, pred_train) )\n",
    "print('Recall on test data:',recall_score(y_test, pred_test))\n",
    "\n",
    "print('Precision on train data:',precision_score(y_train, pred_train) )\n",
    "print('Precision on test data:',precision_score(y_test, pred_test))\n",
    "\n",
    "print('f1 score on train data:',f1_score(y_train, pred_train))\n",
    "print('f1 score on test data:',f1_score(y_test, pred_test))"
   ]
  },
  {
   "cell_type": "code",
   "execution_count": 37,
   "metadata": {},
   "outputs": [
    {
     "data": {
      "image/png": "[encoded data removed]",
      "text/plain": [
       "<Figure size 936x576 with 1 Axes>"
      ]
     },
     "metadata": {},
     "output_type": "display_data"
    }
   ],
   "source": [
    "#AUC ROC curve\n",
    "from sklearn.metrics import roc_auc_score\n",
    "from sklearn.metrics import roc_curve\n",
    "\n",
    "logit_roc_auc = roc_auc_score(y_test, lg4.predict(X_test4))\n",
    "fpr, tpr, thresholds = roc_curve(y_test, lg4.predict(X_test4))\n",
    "plt.figure(figsize=(13,8))\n",
    "plt.plot(fpr, tpr, label='Logistic Regression (area = %0.2f)' % logit_roc_auc)\n",
    "plt.plot([0, 1], [0, 1],'r--')\n",
    "plt.xlim([0.0, 1.0])\n",
    "plt.ylim([0.0, 1.05])\n",
    "plt.xlabel('False Positive Rate')\n",
    "plt.ylabel('True Positive Rate')\n",
    "plt.title('Receiver operating characteristic')\n",
    "plt.legend(loc=\"lower right\")\n",
    "plt.savefig('Log_ROC')\n",
    "plt.show()"
   ]
  },
  {
   "cell_type": "markdown",
   "metadata": {},
   "source": [
    "### Try to improve Recall using AUC-ROC curve"
   ]
  },
  {
   "cell_type": "code",
   "execution_count": 49,
   "metadata": {},
   "outputs": [
    {
     "name": "stdout",
     "output_type": "stream",
     "text": [
      "0.2379202144265259\n"
     ]
    }
   ],
   "source": [
    "from sklearn.metrics import roc_auc_score\n",
    "from sklearn.metrics import roc_curve\n",
    "# Optimal threshold as per AUC-ROC curve\n",
    "# The optimal cut off would be where tpr is high and fpr is low\n",
    "fpr, tpr, thresholds = roc_curve(y_test, lg4.predict(X_test4))\n",
    "\n",
    "optimal_idx = np.argmax(tpr - fpr)\n",
    "optimal_threshold = thresholds[optimal_idx]\n",
    "print(optimal_threshold)"
   ]
  },
  {
   "cell_type": "code",
   "execution_count": 50,
   "metadata": {},
   "outputs": [],
   "source": [
    "# Model prediction with optimal threshold\n",
    "pred_train_opt = (lg.predict(X_train)>optimal_threshold).astype(int)\n",
    "pred_test_opt = (lg.predict(X_test)>optimal_threshold).astype(int)"
   ]
  },
  {
   "cell_type": "code",
   "execution_count": 51,
   "metadata": {},
   "outputs": [
    {
     "name": "stdout",
     "output_type": "stream",
     "text": [
      "Accuracy on train data: 0.6728571428571428\n",
      "Accuracy on test data: 0.6733333333333333\n",
      "Recall on train data: 0.8373205741626795\n",
      "Recall on test data: 0.8021978021978022\n",
      "Precision on train data: 0.47297297297297297\n",
      "Precision on test data: 0.477124183006536\n",
      "f1 score on train data: 0.6044905008635578\n",
      "f1 score on test data: 0.5983606557377049\n"
     ]
    }
   ],
   "source": [
    "#Model performance with optimal threhold\n",
    "\n",
    "print('Accuracy on train data:',accuracy_score(y_train, pred_train_opt) )\n",
    "print('Accuracy on test data:',accuracy_score(y_test, pred_test_opt))\n",
    "\n",
    "print('Recall on train data:',recall_score(y_train, pred_train_opt))\n",
    "print('Recall on test data:',recall_score(y_test, pred_test_opt))\n",
    "\n",
    "print('Precision on train data:',precision_score(y_train, pred_train_opt) )\n",
    "print('Precision on test data:',precision_score(y_test, pred_test_opt))\n",
    "\n",
    "print('f1 score on train data:',f1_score(y_train, pred_train_opt))\n",
    "print('f1 score on test data:',f1_score(y_test, pred_test_opt))"
   ]
  },
  {
   "cell_type": "markdown",
   "metadata": {},
   "source": [
    "* Recall has improved to quite good extent."
   ]
  },
  {
   "cell_type": "markdown",
   "metadata": {},
   "source": [
    "### Now Let's use Precision-Recall curve and see if we can find a better threshold"
   ]
  },
  {
   "cell_type": "code",
   "execution_count": 41,
   "metadata": {},
   "outputs": [
    {
     "data": {
      "image/png": "[encoded data removed]",
      "text/plain": [
       "<Figure size 432x288 with 1 Axes>"
      ]
     },
     "metadata": {},
     "output_type": "display_data"
    }
   ],
   "source": [
    "from sklearn.metrics import precision_recall_curve\n",
    "\n",
    "y_scores=lg4.predict(X_train4)\n",
    "prec, rec, tre = precision_recall_curve(y_train, y_scores, )\n",
    "\n",
    "def plot_prec_recall_vs_tresh(precisions, recalls, thresholds):\n",
    "    plt.plot(thresholds, precisions[:-1], 'b--', label='precision')\n",
    "    plt.plot(thresholds, recalls[:-1], 'g--', label = 'recall')\n",
    "    plt.xlabel('Threshold')\n",
    "    plt.legend(loc='upper left')\n",
    "    plt.ylim([0,1])\n",
    "\n",
    "plot_prec_recall_vs_tresh(prec, rec, tre)\n",
    "plt.show()"
   ]
  },
  {
   "cell_type": "markdown",
   "metadata": {},
   "source": [
    "* Decreasing threshold beyond 0.3 will lead to fast decrease in Precision, which will lead to great loss of opportunity, so let's consider threshold of 0.3"
   ]
  },
  {
   "cell_type": "markdown",
   "metadata": {},
   "source": [
    "### Check Model Performance"
   ]
  },
  {
   "cell_type": "code",
   "execution_count": 48,
   "metadata": {},
   "outputs": [
    {
     "name": "stdout",
     "output_type": "stream",
     "text": [
      "Accuracy on train data: 0.7071428571428572\n",
      "Accuracy on test data: 0.7\n",
      "Recall on train data: 0.7416267942583732\n",
      "Recall on test data: 0.6593406593406593\n",
      "Precision on train data: 0.5065359477124183\n",
      "Precision on test data: 0.5042016806722689\n",
      "f1 score on train data: 0.6019417475728155\n",
      "f1 score on test data: 0.5714285714285715\n"
     ]
    }
   ],
   "source": [
    "optimal_threshold = 0.3\n",
    "\n",
    "# Model prediction with optimal threshold\n",
    "pred_train_opt = (lg.predict(X_train)>optimal_threshold).astype(int)\n",
    "pred_test_opt = (lg.predict(X_test)>optimal_threshold).astype(int)\n",
    "\n",
    "#Model performance with optimal threhold\n",
    "\n",
    "print('Accuracy on train data:',accuracy_score(y_train, pred_train_opt) )\n",
    "print('Accuracy on test data:',accuracy_score(y_test, pred_test_opt))\n",
    "\n",
    "print('Recall on train data:',recall_score(y_train, pred_train_opt))\n",
    "print('Recall on test data:',recall_score(y_test, pred_test_opt))\n",
    "\n",
    "print('Precision on train data:',precision_score(y_train, pred_train_opt) )\n",
    "print('Precision on test data:',precision_score(y_test, pred_test_opt))\n",
    "\n",
    "print('f1 score on train data:',f1_score(y_train, pred_train_opt))\n",
    "print('f1 score on test data:',f1_score(y_test, pred_test_opt))"
   ]
  },
  {
   "cell_type": "markdown",
   "metadata": {},
   "source": [
    "* The previous model was better, where we chose optimal threshold using AUC-ROC curve"
   ]
  },
  {
   "cell_type": "markdown",
   "metadata": {},
   "source": [
    "### Make confusion matrix"
   ]
  },
  {
   "cell_type": "code",
   "execution_count": 43,
   "metadata": {},
   "outputs": [],
   "source": [
    "from sklearn.metrics import classification_report,confusion_matrix\n",
    "\n",
    "\n",
    "\n",
    "def make_confusion_matrix(y_actual,y_predict,labels=[1, 0]):\n",
    "    '''\n",
    "    y_predict: prediction of class\n",
    "    y_actual : ground truth  \n",
    "    '''\n",
    "    cm=confusion_matrix( y_predict,y_actual, labels=[1, 0])\n",
    "    df_cm = pd.DataFrame(cm, index = [i for i in [\"1\",\"0\"]],\n",
    "                  columns = [i for i in ['1','0']])\n",
    "    group_counts = [\"{0:0.0f}\".format(value) for value in\n",
    "                cm.flatten()]\n",
    "    group_percentages = [\"{0:.2%}\".format(value) for value in\n",
    "                         cm.flatten()/np.sum(cm)]\n",
    "    labels = [f\"{v1}\\n{v2}\" for v1, v2 in\n",
    "              zip(group_counts,group_percentages)]\n",
    "    labels = np.asarray(labels).reshape(2,2)\n",
    "    plt.figure(figsize = (7,5))\n",
    "    sns.heatmap(df_cm, annot=labels,fmt='')\n",
    "    plt.ylabel('True label')\n",
    "    plt.xlabel('Predicted label')\n",
    "\n"
   ]
  },
  {
   "cell_type": "code",
   "execution_count": 52,
   "metadata": {},
   "outputs": [
    {
     "data": {
      "image/png": "[encoded data removed]",
      "text/plain": [
       "<Figure size 504x360 with 2 Axes>"
      ]
     },
     "metadata": {},
     "output_type": "display_data"
    }
   ],
   "source": [
    "# let us make confusion matrix on train set\n",
    "make_confusion_matrix(y_train,pred_train_opt)"
   ]
  },
  {
   "cell_type": "code",
   "execution_count": 53,
   "metadata": {},
   "outputs": [
    {
     "data": {
      "image/png": "[encoded data removed]",
      "text/plain": [
       "<Figure size 504x360 with 2 Axes>"
      ]
     },
     "metadata": {},
     "output_type": "display_data"
    }
   ],
   "source": [
    "# let us make confusion matrix on test set\n",
    "make_confusion_matrix(y_test,pred_test_opt)"
   ]
  },
  {
   "cell_type": "markdown",
   "metadata": {},
   "source": [
    "### Business insights\n",
    "* We could see that people owning their own house are less probable to default\n",
    "* As the duration for which credit is taken increases, chances of default increases\n",
    "* people in quite rich category of savings account has least chances of default, while people in little category of savings account are most probable to default\n",
    "\n",
    "**So we could conclude that**\n",
    "* Credit should be given for lesser durations(12 months or less), to people of age inbetween 34 and 57, owning a house, and belonging to rich/quite rich category of savings account\n"
   ]
  },
  {
   "cell_type": "code",
   "execution_count": null,
   "metadata": {},
   "outputs": [],
   "source": []
  }
 ],
 "metadata": {
  "kernelspec": {
   "display_name": "Python 3",
   "language": "python",
   "name": "python3"
  },
  "language_info": {
   "codemirror_mode": {
    "name": "ipython",
    "version": 3
   },
   "file_extension": ".py",
   "mimetype": "text/x-python",
   "name": "python",
   "nbconvert_exporter": "python",
   "pygments_lexer": "ipython3",
   "version": "3.8.3"
  }
 },
 "nbformat": 4,
 "nbformat_minor": 4
}
